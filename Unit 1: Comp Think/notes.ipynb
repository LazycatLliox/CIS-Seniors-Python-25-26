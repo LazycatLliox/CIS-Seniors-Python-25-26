{
 "cells": [
  {
   "cell_type": "markdown",
   "id": "141eaa60",
   "metadata": {},
   "source": [
    "## Working with Python Variables "
   ]
  },
  {
   "cell_type": "markdown",
   "id": "437eea5f",
   "metadata": {},
   "source": [
    "### Stucture of creatign a varable \n",
    "(Variable name) (assignment opperator) (value\n",
    "myVar = \"blah\"\n",
    "\n",
    "### What are the data types in Python?\n",
    "1. Strings - aning inside of '' or \"\"\n",
    "2. Boolean - true/false\n",
    "3. Integers - any number without a decimal \n",
    "4. Float - any number with a decimal \n"
   ]
  },
  {
   "cell_type": "code",
   "execution_count": 4,
   "id": "5ff3dcab",
   "metadata": {},
   "outputs": [
    {
     "name": "stdout",
     "output_type": "stream",
     "text": [
      "3.9\n",
      "3.5500000000000003\n"
     ]
    }
   ],
   "source": [
    "#Variable Reassignment\n",
    "\n",
    "# A students gpa\n",
    "student_gpa = 3.2 #Freshman year\n",
    "student_gpa = 3.4 #Sophomore year\n",
    "student_gpa = 3.7 #Junior year\n",
    "student_gpa = 3.9 #Senior year\n",
    "\n",
    "print(student_gpa)\n",
    "# Output: 3.9\n",
    "\n",
    "# If you need to store all data\n",
    "\n",
    "student_gpa_fresh = 3.2 #Freshman year\n",
    "student_gpa_Soph = 3.4 #Sophomore year\n",
    "student_gpa_jr = 3.7 #Junior year\n",
    "student_gpa_sr = 3.9 #Senior year\n",
    "\n",
    "overall_gpa = (student_gpa_fresh + student_gpa_Soph + student_gpa_jr + student_gpa_sr) / 4\n",
    "print(overall_gpa)\n",
    "\n"
   ]
  },
  {
   "cell_type": "code",
   "execution_count": 5,
   "id": "24780a42",
   "metadata": {},
   "outputs": [
    {
     "name": "stdout",
     "output_type": "stream",
     "text": [
      "True\n"
     ]
    }
   ],
   "source": [
    "# Sports team statistics\n",
    "\n",
    "# basketball team variables\n",
    "teamName = \"Riverside Ravens\"\n",
    "wins = 18\n",
    "losses = 7\n",
    "pointsScored = 1456\n",
    "pointsAllowed = 1298\n",
    "leadingScorer = \"Jordan Thopson\" \n",
    "averagePointsPerGame = 58.2\n",
    "chanmpions_contetders = True\n",
    "\n",
    "print(chanmpions_contetders)"
   ]
  },
  {
   "cell_type": "code",
   "execution_count": 7,
   "id": "b4c4becd",
   "metadata": {},
   "outputs": [
    {
     "name": "stdout",
     "output_type": "stream",
     "text": [
      "Hello, Atreyu!\n"
     ]
    }
   ],
   "source": [
    "# the input function\n",
    "\n",
    "#input(\"What is your first name?\")\n",
    "\n",
    "first_name = input(\"What is your first name? \")\n",
    "\n",
    "print(\"Hello, \" + first_name + \"!\")"
   ]
  },
  {
   "cell_type": "markdown",
   "id": "414d1d4c",
   "metadata": {},
   "source": [
    "## 4 Main computational Process\n",
    "\n",
    "- Input \n",
    "- Processing \n",
    "- Storage\n",
    "- Output"
   ]
  },
  {
   "cell_type": "markdown",
   "id": "c378bdc7",
   "metadata": {},
   "source": [
    "### Strings, Assignments, and Comments:\n",
    "\n",
    "**Data types** - Consists of a set of values and a set if operations that can be performed on those values \n",
    "\n",
    "A **Literial** - is the way a value of a data type looks to a programmer\n",
    "\n",
    "type of data \n",
    "\n",
    "<table>\n",
    "    <tr>\n",
    "        <th>Type of Data</th>\n",
    "        <th>Python type Name</th>\n",
    "        <th>Example Literals</th>\n",
    "    </tr>\n",
    "    <tr>\n",
    "        <td></td>\n",
    "        <td></td>\n",
    "        <td></td>\n",
    "    </tr>\n",
    "\n",
    "\n",
    "    <tr>\n",
    "        <td>Real numbers</td>\n",
    "        <td>float</td>\n",
    "        <td>-0.55, .3333, 3.15, 6.0</td>\n",
    "    </tr>\n",
    "\n",
    "    <tr>\n",
    "</table>"
   ]
  },
  {
   "cell_type": "code",
   "execution_count": 3,
   "id": "445a6ea1",
   "metadata": {},
   "outputs": [
    {
     "name": "stdout",
     "output_type": "stream",
     "text": [
      "Hello, there!\n",
      "675\n"
     ]
    }
   ],
   "source": [
    "hello = \"Hello, there!\"\n",
    "myInt = 675\n",
    "print(hello) # Litteral is: Hello there!\n",
    "print(myInt) # Litteral is: 675"
   ]
  },
  {
   "cell_type": "markdown",
   "id": "62a0e265",
   "metadata": {},
   "source": [
    "## Escape Sequences\n",
    "\n",
    "**Escape Sequences** - the way python expresses special charcters, such as tab\n",
    "\n",
    "<table>\n",
    "    <tr>\n",
    "        <th>Escape Sequences</th>\n",
    "        <th>Meaning<th>\n",
    "    </tr>\n",
    "    <tr>\n",
    "        <td>\\n</td>\n",
    "        <td>Newline</td>\n",
    "    </tr>\n",
    "    <tr>\n",
    "        <td>\\t</td>\n",
    "        <td>Horizontal tab</td>\n",
    "    </tr>\n",
    "    <tr>\n",
    "        <td>\\\\</td>\n",
    "        <td>The \\ Character</td>\n",
    "    </tr>\n",
    "    <tr>\n",
    "        <td>\\'</td>\n",
    "        <td>Single quotation mark</td>\n",
    "    </tr>\n",
    "    <tr>\n",
    "        <td>\\\"</td>\n",
    "        <td>Double quotation mark</td>\n",
    "    </tr>\n",
    "\n",
    "</table>\n"
   ]
  },
  {
   "cell_type": "markdown",
   "id": "0cd13a15",
   "metadata": {},
   "source": [
    "## Initializing a Variable or constant\n",
    "\n",
    "**Initializing** - This is a process of creating a variable and setting it to a defult value"
   ]
  },
  {
   "cell_type": "markdown",
   "id": "4a46f3a7",
   "metadata": {},
   "source": [
    "## Formating text for output\n",
    "\n",
    "This process is for presenting requried output in tabular format.\n",
    "\n",
    "**Feild width** - total number of data characters and addtional spaces for a given datum in a formated string.\n",
    "\n",
    "**%** = format operator \n",
    "\n",
    "**%6s** = format string \n",
    "\n"
   ]
  },
  {
   "cell_type": "code",
   "execution_count": 1,
   "id": "a3498710",
   "metadata": {},
   "outputs": [
    {
     "name": "stdout",
     "output_type": "stream",
     "text": [
      "7 10000000\n",
      "8 100000000\n",
      "9 1000000000\n",
      "10 10000000000\n"
     ]
    }
   ],
   "source": [
    "for exponent in range(7,11):\n",
    "    print(exponent, 10 ** exponent)"
   ]
  },
  {
   "cell_type": "code",
   "execution_count": 5,
   "id": "cdeb9204",
   "metadata": {},
   "outputs": [
    {
     "name": "stdout",
     "output_type": "stream",
     "text": [
      "four\n",
      "  four\n",
      "four  \n"
     ]
    }
   ],
   "source": [
    "print(\"four\")\n",
    "print(\"%6s\" % \"four\") # Right justified\n",
    "print(\"%-6s\" % \"four\") # Left justified\n"
   ]
  },
  {
   "cell_type": "markdown",
   "id": "5b0fe3ed",
   "metadata": {},
   "source": [
    "## Define Iteration \n",
    "\n",
    "Reapeating an action or process a predefined number of times. Also know as a specific type of iteration: **Definite Iteration**\n",
    "\n",
    "Perform an action or process until the program determins that it needs to stop: **Indefinite Iteration**\n",
    "\n",
    "#### Each of these iterations uses a different type of loop\n",
    "\n",
    "Definite Iteration --> for loop \n",
    "Indefinite Iteration --> while loop \n"
   ]
  },
  {
   "cell_type": "code",
   "execution_count": 2,
   "id": "0491b974",
   "metadata": {},
   "outputs": [
    {
     "name": "stdout",
     "output_type": "stream",
     "text": [
      "It's alive! It's alive! It's alive! It's alive! "
     ]
    }
   ],
   "source": [
    "# excute a statment a given number of times\n",
    "for eachPass in range(4): # iterate through 4 times\n",
    "    print(\"It's alive!\", end = \" \")\n",
    "    # Each time through the loop, counting 0-3 \n",
    "    #print it's alive fallowed by a space"
   ]
  },
  {
   "cell_type": "markdown",
   "id": "aae3e176",
   "metadata": {},
   "source": [
    "## The structure of a for loop \n",
    "\n",
    "for (variable) in range(an integer expression):\n",
    "    reapeat any number if statments \n",
    "\n",
    "loop header - the line that starts with 'for'\n",
    "loop Body - comprises the statments in the remaniming lines of code "
   ]
  },
  {
   "cell_type": "markdown",
   "id": "76c37862",
   "metadata": {},
   "source": [
    "## Python's expination operator "
   ]
  },
  {
   "cell_type": "code",
   "execution_count": 4,
   "id": "72d930c7",
   "metadata": {},
   "outputs": [
    {
     "name": "stdout",
     "output_type": "stream",
     "text": [
      "\n",
      " The variable product starts at 1\n",
      "2 4 8 \n",
      " The variable product is now 8\n"
     ]
    }
   ],
   "source": [
    "# Exponent example\n",
    "\n",
    "number = 2\n",
    "exponent = 3\n",
    "product = 1\n",
    "print(\"\\n The variable product starts at\", product)\n",
    "for eachPass in range(exponent): \n",
    "    product = product * number\n",
    "    print(product, end = \" \")\n",
    "\n",
    "print(\"\\n The variable product is now\", product)"
   ]
  },
  {
   "cell_type": "markdown",
   "id": "b42f83dd",
   "metadata": {},
   "source": [
    "## Count-controlled loops \n",
    "\n",
    "**Count-controlled loops** - loops that count throught a range of number\n"
   ]
  },
  {
   "cell_type": "code",
   "execution_count": 5,
   "id": "01e5e015",
   "metadata": {},
   "outputs": [
    {
     "name": "stdout",
     "output_type": "stream",
     "text": [
      "0 1 2 3 "
     ]
    }
   ],
   "source": [
    "for count in range(4):\n",
    "    print(count, end = \" \")\\\n",
    "    "
   ]
  },
  {
   "cell_type": "code",
   "execution_count": 8,
   "id": "7d691035",
   "metadata": {},
   "outputs": [
    {
     "name": "stdout",
     "output_type": "stream",
     "text": [
      "1 2 6 24 24\n"
     ]
    }
   ],
   "source": [
    "product = 1 # initializing a counter\n",
    "\n",
    "for count in range(4):\n",
    "    product = product * (count + 1)\n",
    "    print(product, end = \" \")\n",
    "print(product)"
   ]
  },
  {
   "cell_type": "markdown",
   "id": "8c3d9b61",
   "metadata": {},
   "source": [
    "## Loop through a range of numbers "
   ]
  },
  {
   "cell_type": "code",
   "execution_count": 9,
   "id": "cb96d3ec",
   "metadata": {},
   "outputs": [
    {
     "name": "stdout",
     "output_type": "stream",
     "text": [
      "1 2 6 24 \n",
      "\n",
      " 24\n"
     ]
    }
   ],
   "source": [
    "product = 1\n",
    "\n",
    "for count in range(1, 5): \n",
    "    product = product * count\n",
    "    print(product, end = \" \")\n",
    "\n",
    "print(\"\\n\\n\", product)"
   ]
  },
  {
   "cell_type": "markdown",
   "id": "0971b7d4",
   "metadata": {},
   "source": [
    "### loop head stucture with lower and upper bounds \n",
    "\n",
    "for (variable) in range(lower bound, upper bound plus one):\n"
   ]
  },
  {
   "cell_type": "code",
   "execution_count": 13,
   "id": "3cb4194c",
   "metadata": {},
   "outputs": [
    {
     "name": "stdout",
     "output_type": "stream",
     "text": [
      "45\n"
     ]
    }
   ],
   "source": [
    "lower = int(input(\"Enter the lower bound: \"))\n",
    "upper = int(input(\"Enter the upper bound: \"))\n",
    "\n",
    "theSum = 0 # notice we created theSum is a python keyword\n",
    "for number in range(lower, upper + 1):\n",
    "    theSum += number\n",
    "\n",
    "print(theSum)"
   ]
  },
  {
   "cell_type": "markdown",
   "id": "891c22f6",
   "metadata": {},
   "source": [
    "## Augmented Assignment"
   ]
  },
  {
   "cell_type": "markdown",
   "id": "0e16a27d",
   "metadata": {},
   "source": [
    "**Augmented Assignment** - when the assignment symbol is combined with the arithmitic and concatination operators.\n",
    "\n",
    "structure:\n",
    "(Variable) (operator)= (Expression)"
   ]
  },
  {
   "cell_type": "code",
   "execution_count": 17,
   "id": "671a6f4d",
   "metadata": {},
   "outputs": [
    {
     "name": "stdout",
     "output_type": "stream",
     "text": [
      "20\n",
      "60\n",
      "0\n"
     ]
    }
   ],
   "source": [
    "a = 17\n",
    "s = \"hi\"\n",
    "\n",
    "a += 3 # equivalent to a = a + 3\n",
    "\n",
    "print(a)\n",
    "\n",
    "a *= 3 # equivalent to a = a * 3\n",
    "print(a)\n",
    "\n",
    "a %= 3 # equivalent to a = a % 3\n",
    "print(a)"
   ]
  },
  {
   "cell_type": "code",
   "execution_count": 18,
   "id": "8fdff602",
   "metadata": {},
   "outputs": [
    {
     "name": "stdout",
     "output_type": "stream",
     "text": [
      "hi there\n"
     ]
    }
   ],
   "source": [
    "s += \" there\" # equivalent to s = s + \" there\"\n",
    "print(s)"
   ]
  },
  {
   "cell_type": "markdown",
   "id": "2ca69da0",
   "metadata": {},
   "source": [
    "## loop Errors: Off-by-One-Error"
   ]
  },
  {
   "cell_type": "markdown",
   "id": "0bcf8eb2",
   "metadata": {},
   "source": [
    "**Off-By-One-Error** - These are errors that results when the programer incorecty specifices an upper bound for a loop"
   ]
  },
  {
   "cell_type": "code",
   "execution_count": 22,
   "id": "404d51d5",
   "metadata": {},
   "outputs": [
    {
     "name": "stdout",
     "output_type": "stream",
     "text": [
      "1\n",
      "2\n",
      "3\n",
      "4\n"
     ]
    }
   ],
   "source": [
    "for count in range(1,5):\n",
    "    print(count)"
   ]
  },
  {
   "cell_type": "markdown",
   "id": "e0d0c239",
   "metadata": {},
   "source": [
    "## Traversign Contents of a Data Sequence"
   ]
  },
  {
   "cell_type": "code",
   "execution_count": null,
   "id": "e21dd18d",
   "metadata": {},
   "outputs": [
    {
     "name": "stdout",
     "output_type": "stream",
     "text": [
      "[0, 1, 2, 3]\n",
      "[1, 2, 3, 4]\n"
     ]
    }
   ],
   "source": [
    "print(list(range(4)))\n",
    "print(list(range(1,5)))\n"
   ]
  },
  {
   "cell_type": "code",
   "execution_count": 26,
   "id": "01f9102d",
   "metadata": {},
   "outputs": [
    {
     "name": "stdout",
     "output_type": "stream",
     "text": [
      "6 4 8 "
     ]
    }
   ],
   "source": [
    "# use something other than the range function in the loop head\n",
    "\n",
    "for number in [6,4,8]:\n",
    "    print(number, end = \" \")"
   ]
  },
  {
   "cell_type": "code",
   "execution_count": 27,
   "id": "5db1f921",
   "metadata": {},
   "outputs": [
    {
     "name": "stdout",
     "output_type": "stream",
     "text": [
      "H e l l o   t h e r e "
     ]
    }
   ],
   "source": [
    "for charcter in \"Hello there\":\n",
    "    print(charcter, end = \" \")"
   ]
  },
  {
   "cell_type": "code",
   "execution_count": null,
   "id": "d4c80eca",
   "metadata": {},
   "outputs": [],
   "source": []
  }
 ],
 "metadata": {
  "kernelspec": {
   "display_name": "Python 3",
   "language": "python",
   "name": "python3"
  },
  "language_info": {
   "codemirror_mode": {
    "name": "ipython",
    "version": 3
   },
   "file_extension": ".py",
   "mimetype": "text/x-python",
   "name": "python",
   "nbconvert_exporter": "python",
   "pygments_lexer": "ipython3",
   "version": "3.12.1"
  }
 },
 "nbformat": 4,
 "nbformat_minor": 5
}
