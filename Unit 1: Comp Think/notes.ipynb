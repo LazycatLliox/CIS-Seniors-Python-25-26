{
 "cells": [
  {
   "cell_type": "markdown",
   "id": "141eaa60",
   "metadata": {},
   "source": [
    "## Working with Python Variables "
   ]
  },
  {
   "cell_type": "markdown",
   "id": "437eea5f",
   "metadata": {},
   "source": [
    "### Stucture of creatign a varable \n",
    "(Variable name) (assignment opperator) (value\n",
    "myVar = \"blah\"\n",
    "\n",
    "### What are the data types in Python?\n",
    "1. Strings - aning inside of '' or \"\"\n",
    "2. Boolean - true/false\n",
    "3. Integers - any number without a decimal \n",
    "4. Float - any number with a decimal \n"
   ]
  },
  {
   "cell_type": "code",
   "execution_count": 2,
   "id": "5ff3dcab",
   "metadata": {},
   "outputs": [
    {
     "name": "stdout",
     "output_type": "stream",
     "text": [
      "3.9\n",
      "3.5500000000000003\n"
     ]
    }
   ],
   "source": [
    "#Variable Reassignment\n",
    "\n",
    "# A students gpa\n",
    "student_gpa = 3.2 #Freshman year\n",
    "student_gpa = 3.4 #Sophomore year\n",
    "student_gpa = 3.7 #Junior year\n",
    "student_gpa = 3.9 #Senior year\n",
    "\n",
    "print(student_gpa)\n",
    "# Output: 3.9\n",
    "\n",
    "# If you need to store all data\n",
    "\n",
    "student_gpa_fresh = 3.2 #Freshman year\n",
    "student_gpa_Soph = 3.4 #Sophomore year\n",
    "student_gpa_jr = 3.7 #Junior year\n",
    "student_gpa_sr = 3.9 #Senior year\n",
    "\n",
    "overall_gpa = (student_gpa_fresh + student_gpa_Soph + student_gpa_jr + student_gpa_sr) / 4\n",
    "print(overall_gpa)\n",
    "\n"
   ]
  },
  {
   "cell_type": "code",
   "execution_count": 4,
   "id": "24780a42",
   "metadata": {},
   "outputs": [
    {
     "name": "stdout",
     "output_type": "stream",
     "text": [
      "True\n"
     ]
    }
   ],
   "source": [
    "# Sports team statistics\n",
    "\n",
    "# basketball team variables\n",
    "teamName = \"Riverside Ravens\"\n",
    "wins = 18\n",
    "losses = 7\n",
    "pointsScored = 1456\n",
    "pointsAllowed = 1298\n",
    "leadingScorer = \"Jordan Thopson\" \n",
    "averagePointsPerGame = 58.2\n",
    "chanmpions_contetders = True\n",
    "\n",
    "print(chanmpions_contetders)"
   ]
  },
  {
   "cell_type": "code",
   "execution_count": null,
   "id": "c534ee4c",
   "metadata": {},
   "outputs": [],
   "source": []
  }
 ],
 "metadata": {
  "kernelspec": {
   "display_name": "Python 3",
   "language": "python",
   "name": "python3"
  },
  "language_info": {
   "codemirror_mode": {
    "name": "ipython",
    "version": 3
   },
   "file_extension": ".py",
   "mimetype": "text/x-python",
   "name": "python",
   "nbconvert_exporter": "python",
   "pygments_lexer": "ipython3",
   "version": "3.12.1"
  }
 },
 "nbformat": 4,
 "nbformat_minor": 5
}
